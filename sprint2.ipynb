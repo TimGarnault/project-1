{
 "cells": [
  {
   "cell_type": "markdown",
   "metadata": {},
   "source": [
    "Writing Expressions with Variables\n",
    "To get started, here are some simple exercises to create and use variables and expressions. Variables are how you store data and the results of calculations. Expressions are how you calculate values."
   ]
  },
  {
   "cell_type": "markdown",
   "metadata": {},
   "source": [
    "Exercise 1\n",
    "In your file create a variable called my_name with your name as the value. Put your name inside string quotes, e.g., \"my name\". Then add a line of code to print the variable name.\n",
    "\n",
    "Save your file and run the cell. You should see your name printed. If not, investigate and fix it."
   ]
  },
  {
   "cell_type": "code",
   "execution_count": 1,
   "metadata": {},
   "outputs": [
    {
     "name": "stdout",
     "output_type": "stream",
     "text": [
      "Tim\n"
     ]
    }
   ],
   "source": [
    "my_name=\"Tim\"\n",
    "print(my_name)"
   ]
  },
  {
   "cell_type": "markdown",
   "metadata": {},
   "source": [
    "Exercise 2\n",
    "Create a variable called age with a number that is your age. Do not use string quotes for numbers.\n",
    "\n",
    "Add a line to print that variable. Save the file and run the cell. You should see your age."
   ]
  },
  {
   "cell_type": "code",
   "execution_count": 2,
   "metadata": {},
   "outputs": [
    {
     "name": "stdout",
     "output_type": "stream",
     "text": [
      "40\n"
     ]
    }
   ],
   "source": [
    "age=40\n",
    "print(age)"
   ]
  },
  {
   "cell_type": "markdown",
   "metadata": {},
   "source": [
    "Exercise 3\n",
    "Create a variable called julia_age with the value 32. Create another variable called age_diff and set it to an expression that calculates your age minus Julias's age. Print your age and the value of age_diff. If you are younger than Julia, age_diff should be a negative number."
   ]
  },
  {
   "cell_type": "code",
   "execution_count": null,
   "metadata": {},
   "outputs": [
    {
     "name": "stdout",
     "output_type": "stream",
     "text": [
      "40 8\n"
     ]
    }
   ],
   "source": [
    "julia_age=32\n",
    "age_diff=age-julia_age\n",
    "print(age, age_diff)"
   ]
  },
  {
   "cell_type": "markdown",
   "metadata": {},
   "source": [
    "Writing Code with Conditionals\n",
    "Conditionals are forms used in programming to tell the computer to do different things, depending on some test, e.g., \"if the user is logged in, say \"Hi\", else say \"Please log in.\"\n",
    "\n",
    "The most basic conditional form is if...else..."
   ]
  },
  {
   "cell_type": "markdown",
   "metadata": {},
   "source": [
    "Exercise 4\n",
    "Write a conditional that compares the variable holding your age with the number 21. It should print either \"You are older than 21\" or \"You are not older than 21\", appropriately, depending on your age. Save your file and run the cell. Make sure you see the correct message. Try changing your age in the file to make sure the other message prints when it should."
   ]
  },
  {
   "cell_type": "code",
   "execution_count": 4,
   "metadata": {},
   "outputs": [
    {
     "name": "stdout",
     "output_type": "stream",
     "text": [
      "You are older than 21\n"
     ]
    }
   ],
   "source": [
    "if age> 21:\n",
    "    print(\"You are older than 21\")\n",
    "else:\n",
    "    print(\"You are not older than 21\")"
   ]
  },
  {
   "cell_type": "markdown",
   "metadata": {},
   "source": [
    "Exercise 5\n",
    "Write a conditional that compares your age with Julia's age. This conditional will need to test if you are older, younger, or the same age, and print, appropriately, either \"Julia is older than you\", \"Julia is younger than you\", or \"You are the same age as Julia\".\n",
    "\n",
    "Save your changes and run the cell."
   ]
  },
  {
   "cell_type": "code",
   "execution_count": 5,
   "metadata": {},
   "outputs": [
    {
     "name": "stdout",
     "output_type": "stream",
     "text": [
      "Julia is younger than you\n"
     ]
    }
   ],
   "source": [
    "if age > julia_age:\n",
    "    print(\"Julia is younger than you\")\n",
    "elif age < julia_age:\n",
    "    print(\"Julia is older than you\")\n",
    "else:\n",
    "    print(\"You are the same age as Julia\")"
   ]
  },
  {
   "cell_type": "markdown",
   "metadata": {},
   "source": [
    "Lists and Loops"
   ]
  },
  {
   "cell_type": "markdown",
   "metadata": {},
   "source": [
    "Exercise 6\n",
    "Create a list with all the names of your class (including mentors). Sort the list alphabetically, then print the first element of the list.\n",
    "On the next line, print the last element of the list.\n",
    "On the next line, print all the elements of the list (use a \"for\" loop).\n",
    "You should see the first element of the sorted list, the last element of the sorted list, and then all the elements in sorted order."
   ]
  },
  {
   "cell_type": "code",
   "execution_count": null,
   "metadata": {},
   "outputs": [
    {
     "name": "stdout",
     "output_type": "stream",
     "text": [
      "Alex\n",
      "Tim\n",
      "Alex\n",
      "Emily\n",
      "Jost\n",
      "Lucas\n",
      "Muayad\n",
      "Pablo\n",
      "Rakesh\n",
      "Raul\n",
      "Sudah\n",
      "Tim\n"
     ]
    }
   ],
   "source": [
    "names_of_class=[\"Sudah\", \"Alex\", \"Pablo\", \"Rakesh\", \"Tim\", \"Emily\", \"Raul\", \"Muayad\", \"Jost\", \"Lucas\"]\n",
    "\n",
    "# https://www.w3schools.com/python/ref_list_sort.asp\n",
    "names_of_class.sort()\n",
    "\n",
    "print(names_of_class[0])\n",
    "\n",
    "print(names_of_class[-1])\n",
    "\n",
    "# https://www.w3schools.com/python/python_for_loops.asp\n",
    "for x in names_of_class:\n",
    "    print(x)"
   ]
  },
  {
   "cell_type": "markdown",
   "metadata": {},
   "source": [
    "Exercise 7\n",
    "Create a list with all the ages of the students in your class. Iterate through the list using a for loop, and then print every age. Add a conditional inside the loop to only print even numbers.\n",
    "You should see every age printed, then only the even numbers printed. If not, investigate and fix it.\n",
    "Then do the same using a while loop."
   ]
  },
  {
   "cell_type": "code",
   "execution_count": null,
   "metadata": {},
   "outputs": [
    {
     "name": "stdout",
     "output_type": "stream",
     "text": [
      "30\n",
      "24\n",
      "35\n",
      "34\n",
      "40\n",
      "37\n",
      "30\n",
      "24\n",
      "34\n",
      "40\n",
      "30\n",
      "24\n",
      "35\n",
      "34\n",
      "40\n",
      "37\n",
      "30\n",
      "24\n",
      "34\n",
      "40\n"
     ]
    }
   ],
   "source": [
    "ages_of_class=[30,24,35,34,40,37]\n",
    "\n",
    "for a in ages_of_class:\n",
    "    print(a)\n",
    "\n",
    "# https://www.w3schools.com/python/trypython.asp?filename=demo_oper_mod\n",
    "for a in ages_of_class:\n",
    "    if a % 2 == 0:\n",
    "        print(a)\n",
    "\n",
    "# https://www.w3schools.com/python/python_while_loops.asp\n",
    "i = 0\n",
    "# value of 6 entered manually as I did not know at that time how to set this value with the len function\n",
    "while i < 6:\n",
    "    print(ages_of_class[i])\n",
    "    i += 1\n",
    "\n",
    "i = 0\n",
    "while i < len(ages_of_class):\n",
    "    if ages_of_class[i] % 2 == 0:\n",
    "        print(ages_of_class[i])\n",
    "    i += 1"
   ]
  },
  {
   "cell_type": "markdown",
   "metadata": {},
   "source": [
    "Exercise 8\n",
    "Write a list containing numbers and print the lowest number."
   ]
  },
  {
   "cell_type": "code",
   "execution_count": 41,
   "metadata": {},
   "outputs": [
    {
     "name": "stdout",
     "output_type": "stream",
     "text": [
      "3\n"
     ]
    }
   ],
   "source": [
    "my_list=[101,3,12,92,78]\n",
    "print(min(my_list))"
   ]
  },
  {
   "cell_type": "markdown",
   "metadata": {},
   "source": [
    "Exercise 9\n",
    "Write a list containing numbers and print the highest number."
   ]
  },
  {
   "cell_type": "code",
   "execution_count": 42,
   "metadata": {},
   "outputs": [
    {
     "name": "stdout",
     "output_type": "stream",
     "text": [
      "203\n"
     ]
    }
   ],
   "source": [
    "my_list_2=[45,27,90,203,62]\n",
    "print(max(my_list_2))"
   ]
  },
  {
   "cell_type": "markdown",
   "metadata": {},
   "source": [
    "Exercise 10\n",
    "Given below is a list of 10 customers with year of birth, however, the list can be as large as several thousands of customers.\n",
    "\n",
    "[1999, 1995, 2005, 2010, 2007, 2006, 1994, 1996, 1979, 2008]\n",
    "Use a loop to iterate over the list and print the age of each customer."
   ]
  },
  {
   "cell_type": "code",
   "execution_count": null,
   "metadata": {},
   "outputs": [
    {
     "name": "stdout",
     "output_type": "stream",
     "text": [
      "25\n",
      "29\n",
      "19\n",
      "14\n",
      "17\n",
      "18\n",
      "30\n",
      "28\n",
      "45\n",
      "16\n"
     ]
    }
   ],
   "source": [
    "birth_years=[1999, 1995, 2005, 2010, 2007, 2006, 1994, 1996, 1979, 2008]\n",
    "# print(birth_years)\n",
    "\n",
    "i = 0\n",
    "# https://www.w3schools.com/python/gloss_python_set_length.asp\n",
    "while i < len(birth_years):\n",
    "    customer_age=2024-birth_years[i]\n",
    "    print(customer_age)\n",
    "    i += 1\n",
    "\n",
    "#could do = \n",
    "#   find a way to always have the current year (not hard coded value)\n",
    "#   use for loop instead of while loop"
   ]
  },
  {
   "cell_type": "markdown",
   "metadata": {},
   "source": [
    "Exercise 11\n",
    "Given below is a list of 10 customers with name and year of birth, however, the list can be as large as several thousands of customers.\n",
    "\n",
    "customer_list = [\n",
    "                    {\"name\": \"Bob\", \"age\": 1999},\n",
    "                    {\"name\": \"Jack\", \"age\": 1995},\n",
    "                    {\"name\": \"Lisa\", \"age\": 2005},\n",
    "                    {\"name\": \"Maria\", \"age\": 2010},\n",
    "                    {\"name\": \"Ben\", \"age\": 2007},\n",
    "                    {\"name\": \"Emma\", \"age\": 2006},\n",
    "                    {\"name\": \"Oscar\", \"age\": 1994},\n",
    "                    {\"name\": \"Amy\", \"age\": 1996},\n",
    "                    {\"name\": \"Paul\", \"age\": 1979},\n",
    "                    {\"name\": \"Etta\", \"age\": 2008}\n",
    "                ]\n",
    "Use a loop to iterate over the list and print the name and age of each customer.\n",
    "Afterwards, for each customer try to print the sentence \"customer_name is customer_age years old\".\n",
    "customer_name and customer_age should correspond to each customer's name and age."
   ]
  },
  {
   "cell_type": "code",
   "execution_count": 98,
   "metadata": {},
   "outputs": [
    {
     "name": "stdout",
     "output_type": "stream",
     "text": [
      "Bob  is  25 years old\n",
      "Jack  is  29 years old\n",
      "Lisa  is  19 years old\n",
      "Maria  is  14 years old\n",
      "Ben  is  17 years old\n",
      "Emma  is  18 years old\n",
      "Oscar  is  30 years old\n",
      "Amy  is  28 years old\n",
      "Paul  is  45 years old\n",
      "Etta  is  16 years old\n"
     ]
    }
   ],
   "source": [
    "customer_list = [\n",
    "                    {\"name\": \"Bob\", \"age\": 1999},\n",
    "                    {\"name\": \"Jack\", \"age\": 1995},\n",
    "                    {\"name\": \"Lisa\", \"age\": 2005},\n",
    "                    {\"name\": \"Maria\", \"age\": 2010},\n",
    "                    {\"name\": \"Ben\", \"age\": 2007},\n",
    "                    {\"name\": \"Emma\", \"age\": 2006},\n",
    "                    {\"name\": \"Oscar\", \"age\": 1994},\n",
    "                    {\"name\": \"Amy\", \"age\": 1996},\n",
    "                    {\"name\": \"Paul\", \"age\": 1979},\n",
    "                    {\"name\": \"Etta\", \"age\": 2008}\n",
    "                ]\n",
    "\n",
    "# print(customer_list)\n",
    "\n",
    "    #find the dataset length to set loop iterations\n",
    "    # print(len(customer_list))\n",
    "    \n",
    "    #find value to amend for 1 iteration\n",
    "    # https://swcarpentry.github.io/python-novice-inflammation/04-lists.html\n",
    "    # print(customer_list[0]['age']) \n",
    "\n",
    "    #  returns calculated age with a loop\n",
    "    # i=0\n",
    "    # while i < len(customer_list):\n",
    "    #     customer_age_1=2024-customer_list[i]['age']\n",
    "    #     #assign calculated age value to the right customer\n",
    "    #     customer_list[i]['age']=customer_age_1\n",
    "    #     print(customer_age_1)\n",
    "    #     i += 1\n",
    "\n",
    "# Use a loop to iterate over the list and print the name and age of each customer.\n",
    "    # test with 1 row\n",
    "    # print(customer_list[0]['name'],\" \",customer_list[0]['age'])\n",
    "\n",
    "# i=0\n",
    "# while i < len(customer_list):\n",
    "#     customer_age_1=2024-customer_list[i]['age']\n",
    "#     customer_list[i]['age']=customer_age_1\n",
    "#     print(customer_list[i]['name'],\" \",customer_list[i]['age'])\n",
    "#     i += 1\n",
    "\n",
    "# print(customer_list)\n",
    "# Afterwards, for each customer try to print the sentence \"customer_name is customer_age years old\".\n",
    "    # i=0\n",
    "    # while i < len(customer_list):\n",
    "    #     customer_age_1=2024-customer_list[i]['age']\n",
    "    #     customer_list[i]['age']=customer_age_1\n",
    "    #     print(customer_list[i]['name'],\" is \",customer_list[i]['age'],\"years old\")\n",
    "    #     i += 1\n",
    "\n",
    "#OR\n",
    "\n",
    "for a in customer_list:\n",
    "    print(a['name'],\" is \",2024-a['age'],\"years old\")\n",
    "\n",
    "# customer_name and customer_age should correspond to each customer's name and age."
   ]
  },
  {
   "cell_type": "markdown",
   "metadata": {},
   "source": [
    "Exercise 12\n",
    "Given a list of ages, remove the youngest and the oldest person.\n",
    "ages = [20, 24, 14, 9, 12, 13, 25, 23, 40, 11]\n",
    "For this exercise try not to use the max() and min() methods."
   ]
  },
  {
   "cell_type": "code",
   "execution_count": 48,
   "metadata": {},
   "outputs": [
    {
     "name": "stdout",
     "output_type": "stream",
     "text": [
      "[11, 12, 13, 14, 20, 23, 24, 25, 40]\n"
     ]
    }
   ],
   "source": [
    "ages = [20, 24, 14, 9, 12, 13, 25, 23, 40, 11]\n",
    "# print(ages)\n",
    "\n",
    "ages.sort()\n",
    "# print(ages)\n",
    "\n",
    "ages.pop(0)\n",
    "print(ages)"
   ]
  },
  {
   "cell_type": "markdown",
   "metadata": {},
   "source": [
    "Exercise 13\n",
    "You have two lists with ages of customers from different cities.\n",
    "\n",
    "berlin = [15, 13, 16, 18, 19, 10, 12 ]\n",
    "munich = [7, 13, 15, 20, 19, 18, 10, 16]\n",
    "The task is to create a new list with the common ages."
   ]
  },
  {
   "cell_type": "code",
   "execution_count": null,
   "metadata": {},
   "outputs": [
    {
     "name": "stdout",
     "output_type": "stream",
     "text": [
      "[15, 13, 16, 18, 19, 10, 12, 7, 20]\n"
     ]
    }
   ],
   "source": [
    "berlin = [15, 13, 16, 18, 19, 10, 12 ]\n",
    "munich = [7, 13, 15, 20, 19, 18, 10, 16]\n",
    "\n",
    "combined_list = berlin + munich\n",
    "# print(combined_list)\n",
    "\n",
    "new_list=[]\n",
    "for x in combined_list:\n",
    "    if x not in new_list:\n",
    "        new_list.append(x)\n",
    "\n",
    "print(new_list)"
   ]
  },
  {
   "cell_type": "markdown",
   "metadata": {},
   "source": [
    "Exercise 14\n",
    "You have a list with ages.\n",
    "\n",
    "[15, 13, 16, 18, 19, 15, 10]\n",
    "Remove the duplicates."
   ]
  },
  {
   "cell_type": "code",
   "execution_count": 51,
   "metadata": {},
   "outputs": [
    {
     "name": "stdout",
     "output_type": "stream",
     "text": [
      "[15, 13, 16, 18, 19, 10]\n"
     ]
    }
   ],
   "source": [
    "list_of_ages = [15, 13, 16, 18, 19, 15, 10]\n",
    "# print(list_of_ages)\n",
    "\n",
    "list_of_ages_new = []\n",
    "for x in list_of_ages:\n",
    "    if x not in list_of_ages_new:\n",
    "        list_of_ages_new.append(x)\n",
    "\n",
    "print(list_of_ages_new)"
   ]
  },
  {
   "cell_type": "markdown",
   "metadata": {},
   "source": [
    "Functions\n",
    "Exercise 15\n",
    "Write a function that works like below:\n",
    "\n",
    "Function name: welcome\n",
    "\n",
    "welcome('Evelyn') would print- 'Welcome Evelyn, have a nice day!'\n"
   ]
  },
  {
   "cell_type": "code",
   "execution_count": 57,
   "metadata": {},
   "outputs": [
    {
     "name": "stdout",
     "output_type": "stream",
     "text": [
      "Welcome Evelyn, have a nice day!\n"
     ]
    }
   ],
   "source": [
    "def welcome():\n",
    "    # x= 'Evelyn'\n",
    "    print(\"Welcome Evelyn, have a nice day!\")\n",
    "welcome()"
   ]
  },
  {
   "cell_type": "markdown",
   "metadata": {},
   "source": [
    "Exercise 16\n",
    "Write a function that takes a string as input and calculates the length.\n",
    "\n",
    "Function name: get_length\n",
    "\n",
    "get_length('Hello') would print / return 5.\n",
    "\n",
    "get_length('Hi') would print / return 2."
   ]
  },
  {
   "cell_type": "code",
   "execution_count": null,
   "metadata": {},
   "outputs": [
    {
     "name": "stdout",
     "output_type": "stream",
     "text": [
      "5\n",
      "2\n",
      "5\n",
      "2\n"
     ]
    }
   ],
   "source": [
    "# https://www.w3schools.com/python/python_functions.asp\n",
    "def get_length(x):\n",
    "    print(x)\n",
    "\n",
    "get_length(x=len(\"Hello\"))\n",
    "get_length(x=len(\"Hi\"))\n",
    "\n",
    "# OR\n",
    "\n",
    "def get_length(x):\n",
    "    return len(x)\n",
    "\n",
    "print(get_length(\"Hello\"))\n",
    "print(get_length(\"Hi\"))\n",
    "\n"
   ]
  },
  {
   "cell_type": "markdown",
   "metadata": {},
   "source": [
    "Exercise 17\n",
    "Write a function which checks whether a number is even.\n",
    "\n",
    "Hint: Think about the modulus operator\n",
    "\n",
    "Function name: check_even\n",
    "\n",
    "check_even(6) would print / return 'Yes'\n",
    "\n",
    "check_even(5) would print / return 'No'"
   ]
  },
  {
   "cell_type": "code",
   "execution_count": 71,
   "metadata": {},
   "outputs": [
    {
     "name": "stdout",
     "output_type": "stream",
     "text": [
      "Yes\n",
      "No\n"
     ]
    }
   ],
   "source": [
    "def check_even(x):\n",
    "    if (x)%2==0:\n",
    "        return \"Yes\"\n",
    "    else:\n",
    "        return \"No\"\n",
    "    \n",
    "print(check_even(6))\n",
    "print(check_even(5))"
   ]
  },
  {
   "cell_type": "markdown",
   "metadata": {},
   "source": [
    "Exercise 18\n",
    "Rewrite exercises 11, 12, 13, and 14 in a function."
   ]
  },
  {
   "cell_type": "code",
   "execution_count": 186,
   "metadata": {},
   "outputs": [
    {
     "name": "stdout",
     "output_type": "stream",
     "text": [
      "Bob  is  25 years old\n",
      "Jack  is  29 years old\n",
      "Lisa  is  19 years old\n",
      "Maria  is  14 years old\n",
      "Ben  is  17 years old\n",
      "Emma  is  18 years old\n",
      "Oscar  is  30 years old\n",
      "Amy  is  28 years old\n",
      "Paul  is  45 years old\n",
      "Etta  is  16 years old\n",
      "[20, 24, 14, 9, 12, 13, 25, 23, 40, 11]\n",
      "[20, 24, 14, 12, 13, 25, 23, 40, 11]\n",
      "[15, 13, 16, 18, 19, 10, 12, 7, 20]\n",
      "[15, 13, 16, 18, 19, 15, 10]\n",
      "[15, 13, 16, 18, 19, 10]\n"
     ]
    }
   ],
   "source": [
    "# Exercise 11\n",
    "customer_list = [\n",
    "                    {\"name\": \"Bob\", \"age\": 1999},\n",
    "                    {\"name\": \"Jack\", \"age\": 1995},\n",
    "                    {\"name\": \"Lisa\", \"age\": 2005},\n",
    "                    {\"name\": \"Maria\", \"age\": 2010},\n",
    "                    {\"name\": \"Ben\", \"age\": 2007},\n",
    "                    {\"name\": \"Emma\", \"age\": 2006},\n",
    "                    {\"name\": \"Oscar\", \"age\": 1994},\n",
    "                    {\"name\": \"Amy\", \"age\": 1996},\n",
    "                    {\"name\": \"Paul\", \"age\": 1979},\n",
    "                    {\"name\": \"Etta\", \"age\": 2008}\n",
    "                ]\n",
    "\n",
    "    # i=0\n",
    "    # while i < len(customer_list):\n",
    "    #     customer_age_1=2024-customer_list[i]['age']\n",
    "    #     customer_list[i]['age']=customer_age_1\n",
    "    #     print(customer_list[i]['name'],\"is\",customer_list[i]['age'],\"years old\")\n",
    "    #     i += 1\n",
    "    # OR\n",
    "    # for a in customer_list:\n",
    "    #     print(a['name'],\" is \",2024-a['age'],\"years old\")\n",
    "\n",
    "def customer_age_function(a_list_with_name_and_age):\n",
    "    for a in a_list_with_name_and_age:\n",
    "        print(a['name'],\" is \",2024-a['age'],\"years old\")\n",
    "\n",
    "customer_age_function(customer_list)\n",
    "\n",
    "\n",
    "# Exercise 12\n",
    "# Given a list of ages, remove the youngest and the oldest person.\n",
    "ages = [20, 24, 14, 9, 12, 13, 25, 23, 40, 11]\n",
    "# For this exercise try not to use the max() and min() methods.\n",
    "print(ages)\n",
    "\n",
    "def remove_youngest_function(age_items):\n",
    "    min_value=age_items[0]\n",
    "    for age_value in age_items[1:]:\n",
    "        if age_value < min_value:\n",
    "            min_value=age_value\n",
    "    value_to_remove = min_value\n",
    "    age_items.remove(value_to_remove)\n",
    "    print(age_items)\n",
    "\n",
    "remove_youngest_function(ages)\n",
    "\n",
    "# Exercise 13\n",
    "# You have two lists with ages of customers from different cities.\n",
    "\n",
    "berlin = [15, 13, 16, 18, 19, 10, 12 ]\n",
    "munich = [7, 13, 15, 20, 19, 18, 10, 16]\n",
    "# The task is to create a new list with the common ages.\n",
    "\n",
    "def new_list_of_age_function(x,y):\n",
    "    new_list_of_age=[]\n",
    "    for item_x in x:\n",
    "        new_list_of_age.append(item_x)\n",
    "    for item_y in y:\n",
    "        if item_y not in new_list_of_age:\n",
    "            new_list_of_age.append(item_y)\n",
    "    print(new_list_of_age)\n",
    "\n",
    "new_list_of_age_function(berlin, munich)\n",
    "\n",
    "# Exercise 14\n",
    "# You have a list with ages.\n",
    "ages_with_duplicates= [15, 13, 16, 18, 19, 15, 10]\n",
    "# Remove the duplicates.\n",
    "def remove_duplicates_in_list(x):\n",
    "    new_list_without_duplicate=[]\n",
    "    for item_x in x:\n",
    "        if item_x not in new_list_without_duplicate:\n",
    "            new_list_without_duplicate.append(item_x)\n",
    "    print(new_list_without_duplicate)\n",
    "\n",
    "print(ages_with_duplicates)\n",
    "remove_duplicates_in_list(ages_with_duplicates)"
   ]
  },
  {
   "cell_type": "markdown",
   "metadata": {},
   "source": [
    "Exercise 19\n",
    "Write a function that takes a list of integers and also a single integer as inputs. It should return true or false if the single integer value is present or not in the list."
   ]
  },
  {
   "cell_type": "code",
   "execution_count": null,
   "metadata": {},
   "outputs": [
    {
     "data": {
      "text/plain": [
       "False"
      ]
     },
     "execution_count": 195,
     "metadata": {},
     "output_type": "execute_result"
    }
   ],
   "source": [
    "current_list_of_integers=[5,15,25,35,45,55]\n",
    "input_integer= [1]\n",
    "\n",
    "def is_this_integer_in_the_list(user_input,list_of_integers):\n",
    "    for items in list_of_integers:\n",
    "        if user_input in list_of_integers:\n",
    "            return True\n",
    "        else:\n",
    "            return False\n",
    "\n",
    "is_this_integer_in_the_list(input_integer, current_list_of_integers)"
   ]
  },
  {
   "cell_type": "markdown",
   "metadata": {},
   "source": [
    "Extra Exercises\n",
    "Do the intermediate exercises in this document (optional).\n",
    "\n"
   ]
  },
  {
   "cell_type": "markdown",
   "metadata": {},
   "source": [
    "Q1. Chocolate firm chocoBury wants to do smart advertisement for their newly\n",
    "launched chocolate brand across Germany in 2019 and target right aged customers.\n",
    "They have collected the years of birth of all of the customers and want to calculate\n",
    "their respective age.\n",
    "\n",
    "Given below is a list of 10 customers with year of birth, however, the list can be as\n",
    "large as several thousands of customers.\n",
    "\n",
    "[1999, 1995, 2005, 2010, 2007, 2006, 1994, 1996, 1979, 2008]\n",
    "\n",
    "The task is to write a function that returns the age of customers.\n",
    "\n",
    "Sample input: [1999, 1995, 2005, 2010, 2007, 2006, 1994, 1996, 1979, 2008]\n",
    "Sample output: [20, 24, 14, 9, 12, 13, 25, 23, 40, 11]"
   ]
  },
  {
   "cell_type": "code",
   "execution_count": 206,
   "metadata": {},
   "outputs": [
    {
     "name": "stdout",
     "output_type": "stream",
     "text": [
      "20\n",
      "24\n",
      "14\n",
      "9\n",
      "12\n",
      "13\n",
      "25\n",
      "23\n",
      "40\n",
      "11\n"
     ]
    }
   ],
   "source": [
    "#Q1 write a function that returns the age of customers\n",
    "\n",
    "q1_list_year=[1999, 1995, 2005, 2010, 2007, 2006, 1994, 1996, 1979, 2008]\n",
    "\n",
    "def q1_age_function(q1_birthyear):\n",
    "    for item in q1_birthyear:\n",
    "        q1_age=2019-item\n",
    "        print(q1_age)\n",
    "\n",
    "q1_age_function(q1_list_year)"
   ]
  },
  {
   "cell_type": "markdown",
   "metadata": {},
   "source": [
    "Q2. It costs much for the chocolate firm chocoBury to do marketing for wide range of\n",
    "customers. To save money, they want to narrow down the range of ages obtained in\n",
    "previous list.\n",
    "\n",
    "Also, the oldest person and youngest person do not truly represent the targeted\n",
    "group for marketing campaign and they can be considered as outliers.\n",
    "\n",
    "The task is to write a function that removes the outliers (the oldest and youngest\n",
    "person’s age) and return the new list with age of 8 persons (in this case which\n",
    "contains data for 10 customers initially).\n",
    "\n",
    "Sample input: [20, 24, 14, 9, 12, 13, 25, 23, 40, 11]\n",
    "Sample output: [20, 24, 14, 12, 13, 25, 23, 11]"
   ]
  },
  {
   "cell_type": "code",
   "execution_count": 212,
   "metadata": {},
   "outputs": [
    {
     "name": "stdout",
     "output_type": "stream",
     "text": [
      "[20, 24, 14, 12, 13, 25, 23, 11]\n"
     ]
    }
   ],
   "source": [
    "#Q2 write a function that removes the outliers (the oldest and youngest person’s age) and \n",
    "# return the new list with age of 8 persons (in this case which contains data for 10 customers initially).\n",
    "q2_list=[20, 24, 14, 9, 12, 13, 25, 23, 40, 11]\n",
    "\n",
    "def q2_remove_outliers(q2_age):\n",
    "    low_outlier= min(q2_age)\n",
    "    high_outlier= max(q2_age)\n",
    "    q2_age.remove(low_outlier)\n",
    "    q2_age.remove(high_outlier)\n",
    "    print(q2_age)\n",
    "\n",
    "q2_remove_outliers(q2_list)"
   ]
  },
  {
   "cell_type": "markdown",
   "metadata": {},
   "source": [
    "Q3. The chocolate firm chocoBury did the survey of customers in Berlin and Munich\n",
    "separately and came up with the following lists of the age of customers.\n",
    "\n",
    "berlin = [15, 13, 16, 18, 19, 10, 12 ]\n",
    "munich = [7, 13, 15, 20, 19, 18, 10, 16]\n",
    "\n",
    "However, marketing manager Henry thinks that a single list would be better to look\n",
    "at rather than having different lists from these 2 cities. So, Henry wants to have a\n",
    "common list from these 2 cities.\n",
    "\n",
    "The task is to write a function that takes these 2 lists as input and returns the\n",
    "common age values.\n",
    "\n",
    "Sample input: [15, 13, 16, 18, 19, 10, 12 ], [7, 13, 15, 20, 19, 18, 10, 16]\n",
    "\n",
    "Sample output: [15,13,16,18,19,10]"
   ]
  },
  {
   "cell_type": "code",
   "execution_count": 233,
   "metadata": {},
   "outputs": [
    {
     "name": "stdout",
     "output_type": "stream",
     "text": [
      "[15, 13, 16, 18, 19, 10]\n"
     ]
    }
   ],
   "source": [
    "#Q3 write a function that takes these 2 lists as input and returns the common age values\n",
    "\n",
    "q3_list_berlin = [15, 13, 16, 18, 19, 10, 12 ]\n",
    "q3_list_munich = [7, 13, 15, 20, 19, 18, 10, 16]\n",
    "\n",
    "def q3_combined_common_list_function(q3_list_1,q3_list_2):\n",
    "    q3_combined_list=[]\n",
    "    for item in q3_list_1:\n",
    "        if item in q3_list_2:\n",
    "            q3_combined_list.append(item)\n",
    "    print(q3_combined_list)\n",
    "\n",
    "q3_combined_common_list_function(q3_list_berlin,q3_list_munich)"
   ]
  },
  {
   "cell_type": "markdown",
   "metadata": {},
   "source": [
    "Q4. After careful investigation of the common age list, Henry, the marketing\n",
    "manager of the chocolate firm chocoBury, found out that many of the customer\n",
    "ages are simply duplicate values. So, he asked Mark, the only software developer in\n",
    "the Chocolate company chocoBury, to give him the list with no redundant age\n",
    "values.\n",
    "\n",
    "The task is to write a function that takes the list with duplicate values as input and\n",
    "return the list with unique age values.\n",
    "\n",
    "Sample input: [15,13,16,18,19,15,10]\n",
    "Sample output: [15,13,16,18,19,10]"
   ]
  },
  {
   "cell_type": "code",
   "execution_count": 237,
   "metadata": {},
   "outputs": [
    {
     "name": "stdout",
     "output_type": "stream",
     "text": [
      "[15, 13, 16, 18, 19, 10]\n"
     ]
    }
   ],
   "source": [
    "#Q4 write a function that takes the list with duplicate values as input and return the list with unique age values\n",
    "\n",
    "q4_list_age=[15,13,16,18,19,15,10]\n",
    "\n",
    "def q4_remove_duplicate_list_function(q4_list):\n",
    "    q4_no_duplicate_list=[]\n",
    "    for item in q4_list:\n",
    "        if item not in q4_no_duplicate_list:\n",
    "            q4_no_duplicate_list.append(item)\n",
    "    print(q4_no_duplicate_list)\n",
    "\n",
    "q4_remove_duplicate_list_function(q4_list_age)    \n"
   ]
  },
  {
   "cell_type": "markdown",
   "metadata": {},
   "source": [
    "Q5. Henry generally asks software developer Mark if a certain age value is present in\n",
    "the list of customer ages or not. However, Henry, a busy manager, often forgets what\n",
    "Mark replies and asks the same question sometimes multiple times.\n",
    "Mark, a smart guy, thinks it is too boring for him and hence, he thinks why not he\n",
    "creates a function which will listen to Henry’s query and read through the age list &\n",
    "finally reply back to Henry if that age is present or not in the list.\n",
    "\n",
    "The task is to write a function that takes an input list and value of age to find as input\n",
    "and return true or false if the age value is present or not.\n",
    "\n",
    "Sample input: [15,13,16,18,19,15,10], 15\n",
    "Sample output: True\n",
    "\n",
    "Sample input: [15,13,16,18,19,15,10], 28\n",
    "Sample output: False"
   ]
  },
  {
   "cell_type": "code",
   "execution_count": 248,
   "metadata": {},
   "outputs": [
    {
     "data": {
      "text/plain": [
       "False"
      ]
     },
     "execution_count": 248,
     "metadata": {},
     "output_type": "execute_result"
    }
   ],
   "source": [
    "#Q5 write a function that takes an input list and value of age to find as input and \n",
    "# return true or false if the age value is present or not.\n",
    "\n",
    "q5_customer_age_list= [15,13,16,18,19,15,10]\n",
    "q5_Henry_input= 28\n",
    "\n",
    "def is_age_in_list(q5_age_list, q5_age_input):\n",
    "    if q5_age_input in q5_age_list:\n",
    "        return True\n",
    "    else:\n",
    "        return False\n",
    "\n",
    "is_age_in_list(q5_customer_age_list,q5_Henry_input)\n",
    "\n",
    "    "
   ]
  },
  {
   "cell_type": "markdown",
   "metadata": {},
   "source": [
    "Intermediate level\n",
    "1. You are given an array (which will have a length of at least 3, but could be very\n",
    "large) containing integers. The array is either entirely comprised of odd integers or\n",
    "entirely comprised of even integers except for a single integer N.\n",
    "\n",
    "Write a method that takes the array as an argument and returns this “outlier” N.\n",
    "\n",
    "Sample test cases:\n",
    "[2, 4, 0, 100, 4, 11, 2602, 36]\n",
    "Should return: 11 (the only odd number)\n",
    "\n",
    "[160, 3, 1719, 19, 11, 13, -21]\n",
    "Should return: 160 (the only even number)\n",
    "\n",
    "find_outlier([2, 4, 6, 8, 10, 3])\n",
    "Should return: 3"
   ]
  },
  {
   "cell_type": "code",
   "execution_count": 29,
   "metadata": {},
   "outputs": [
    {
     "name": "stdout",
     "output_type": "stream",
     "text": [
      "11\n"
     ]
    }
   ],
   "source": [
    "# I1 Write a method that takes the array as an argument and returns this “outlier” N\n",
    "\n",
    "def find_outlier(list_with_outlier):\n",
    "    odd_list=[]\n",
    "    even_list=[]\n",
    "    for item in list_with_outlier:\n",
    "        if item % 2!= 0:\n",
    "            odd_list.append(item)\n",
    "        else:\n",
    "            even_list.append(item)\n",
    "    if len(odd_list) == 1:\n",
    "        print(*odd_list)\n",
    "    elif len(even_list) == 1:\n",
    "        print(*even_list)\n",
    "    else:\n",
    "        pass\n",
    "\n",
    "list_with_outlier_1=[2, 4, 0, 100, 4, 11, 2602, 36]\n",
    "list_with_outlier_2=[160, 3, 1719, 19, 11, 13, -21]\n",
    "list_with_outlier_3=[2, 4, 6, 8, 10, 3]\n",
    "\n",
    "find_outlier(list_with_outlier_1)\n"
   ]
  }
 ],
 "metadata": {
  "kernelspec": {
   "display_name": "base",
   "language": "python",
   "name": "python3"
  },
  "language_info": {
   "codemirror_mode": {
    "name": "ipython",
    "version": 3
   },
   "file_extension": ".py",
   "mimetype": "text/x-python",
   "name": "python",
   "nbconvert_exporter": "python",
   "pygments_lexer": "ipython3",
   "version": "3.12.7"
  }
 },
 "nbformat": 4,
 "nbformat_minor": 2
}
